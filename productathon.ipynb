{
  "nbformat": 4,
  "nbformat_minor": 0,
  "metadata": {
    "colab": {
      "provenance": []
    },
    "kernelspec": {
      "name": "python3",
      "display_name": "Python 3"
    },
    "language_info": {
      "name": "python"
    }
  },
  "cells": [
    {
      "cell_type": "code",
      "execution_count": 9,
      "metadata": {
        "id": "EOv_u-TZaR06",
        "colab": {
          "base_uri": "https://localhost:8080/"
        },
        "outputId": "bd5c2044-5d00-44b6-88c3-2ce206652242"
      },
      "outputs": [
        {
          "output_type": "stream",
          "name": "stdout",
          "text": [
            "Requirement already satisfied: requests in /usr/local/lib/python3.11/dist-packages (2.32.3)\n",
            "Requirement already satisfied: charset-normalizer<4,>=2 in /usr/local/lib/python3.11/dist-packages (from requests) (3.4.1)\n",
            "Requirement already satisfied: idna<4,>=2.5 in /usr/local/lib/python3.11/dist-packages (from requests) (3.10)\n",
            "Requirement already satisfied: urllib3<3,>=1.21.1 in /usr/local/lib/python3.11/dist-packages (from requests) (2.3.0)\n",
            "Requirement already satisfied: certifi>=2017.4.17 in /usr/local/lib/python3.11/dist-packages (from requests) (2024.12.14)\n",
            "🔹 Name: Bitcoin (BTC)\n",
            "   💰 Price: $102246.16\n",
            "   📈 24h Change: -2.36%\n",
            "   🏦 Market Cap: $2026331623692.35\n",
            "----------------------------------------\n",
            "🔹 Name: Ethereum (ETH)\n",
            "   💰 Price: $3263.14\n",
            "   📈 24h Change: -3.55%\n",
            "   🏦 Market Cap: $393275236789.30\n",
            "----------------------------------------\n",
            "🔹 Name: XRP (XRP)\n",
            "   💰 Price: $2.99\n",
            "   📈 24h Change: -2.88%\n",
            "   🏦 Market Cap: $172720559700.52\n",
            "----------------------------------------\n",
            "🔹 Name: Tether USDt (USDT)\n",
            "   💰 Price: $1.00\n",
            "   📈 24h Change: -0.03%\n",
            "   🏦 Market Cap: $139388286858.98\n",
            "----------------------------------------\n",
            "🔹 Name: Solana (SOL)\n",
            "   💰 Price: $227.51\n",
            "   📈 24h Change: -3.77%\n",
            "   🏦 Market Cap: $110767010375.80\n",
            "----------------------------------------\n",
            "🔹 Name: BNB (BNB)\n",
            "   💰 Price: $668.57\n",
            "   📈 24h Change: -2.38%\n",
            "   🏦 Market Cap: $95258592476.12\n",
            "----------------------------------------\n",
            "🔹 Name: USDC (USDC)\n",
            "   💰 Price: $1.00\n",
            "   📈 24h Change: 0.00%\n",
            "   🏦 Market Cap: $53302922446.35\n",
            "----------------------------------------\n",
            "🔹 Name: Dogecoin (DOGE)\n",
            "   💰 Price: $0.32\n",
            "   📈 24h Change: -3.63%\n",
            "   🏦 Market Cap: $47665527793.04\n",
            "----------------------------------------\n",
            "🔹 Name: Cardano (ADA)\n",
            "   💰 Price: $0.93\n",
            "   📈 24h Change: -3.70%\n",
            "   🏦 Market Cap: $32769698087.70\n",
            "----------------------------------------\n",
            "🔹 Name: TRON (TRX)\n",
            "   💰 Price: $0.25\n",
            "   📈 24h Change: -1.71%\n",
            "   🏦 Market Cap: $21741267021.51\n",
            "----------------------------------------\n"
          ]
        }
      ],
      "source": [
        "# Install required libraries\n",
        "!pip install requests\n",
        "\n",
        "# Import necessary modules\n",
        "import requests\n",
        "import json\n",
        "\n",
        "# Set your CoinMarketCap API key\n",
        "API_KEY = \"cb7caf20-25ac-4565-900d-e4b51d3b4c08\"  # Replace with your actual API key\n",
        "\n",
        "# Base URL for CoinMarketCap API\n",
        "BASE_URL = \"https://pro-api.coinmarketcap.com/v1/cryptocurrency/listings/latest\"\n",
        "\n",
        "# Function to fetch latest cryptocurrency data\n",
        "def get_crypto_data(limit=10):\n",
        "    headers = {\n",
        "        \"Accepts\": \"application/json\",\n",
        "        \"X-CMC_PRO_API_KEY\": API_KEY\n",
        "    }\n",
        "\n",
        "    params = {\n",
        "        \"start\": 1,  # Get data from the first cryptocurrency onwards\n",
        "        \"limit\": limit,  # Number of cryptocurrencies to fetch\n",
        "        \"convert\": \"USD\"  # Convert prices to USD\n",
        "    }\n",
        "\n",
        "    response = requests.get(BASE_URL, headers=headers, params=params)\n",
        "\n",
        "    if response.status_code == 200:\n",
        "        data = response.json()\n",
        "        return data[\"data\"]\n",
        "    else:\n",
        "        return f\"Error: {response.status_code}, {response.text}\"\n",
        "\n",
        "# Get top 10 cryptocurrencies\n",
        "crypto_data = get_crypto_data()\n",
        "\n",
        "# Display data in a readable format\n",
        "for coin in crypto_data:\n",
        "    print(f\"🔹 Name: {coin['name']} ({coin['symbol']})\")\n",
        "    print(f\"   💰 Price: ${coin['quote']['USD']['price']:.2f}\")\n",
        "    print(f\"   📈 24h Change: {coin['quote']['USD']['percent_change_24h']:.2f}%\")\n",
        "    print(f\"   🏦 Market Cap: ${coin['quote']['USD']['market_cap']:.2f}\")\n",
        "    print(\"-\" * 40)\n",
        "\n",
        "\n"
      ]
    },
    {
      "cell_type": "code",
      "source": [],
      "metadata": {
        "id": "ABIiKv2ohY8f"
      },
      "execution_count": null,
      "outputs": []
    }
  ]
}